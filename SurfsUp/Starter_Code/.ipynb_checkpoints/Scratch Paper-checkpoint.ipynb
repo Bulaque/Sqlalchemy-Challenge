{
 "cells": [
  {
   "cell_type": "code",
   "execution_count": 1,
   "id": "bc075f0d",
   "metadata": {},
   "outputs": [],
   "source": [
    "%matplotlib inline\n",
    "from matplotlib import style\n",
    "style.use('fivethirtyeight')\n",
    "import matplotlib.pyplot as plt"
   ]
  },
  {
   "cell_type": "code",
   "execution_count": 2,
   "id": "c8612149",
   "metadata": {},
   "outputs": [],
   "source": [
    "import numpy as np\n",
    "import pandas as pd\n",
    "import datetime as dt"
   ]
  },
  {
   "cell_type": "code",
   "execution_count": 3,
   "id": "b73f9870",
   "metadata": {},
   "outputs": [],
   "source": [
    "# Python SQL toolkit and Object Relational Mapper\n",
    "import sqlalchemy\n",
    "from sqlalchemy.ext.automap import automap_base\n",
    "from sqlalchemy.orm import Session\n",
    "from sqlalchemy import create_engine, func"
   ]
  },
  {
   "cell_type": "code",
   "execution_count": 4,
   "id": "50bbd8cc",
   "metadata": {},
   "outputs": [],
   "source": [
    "# create engine to hawaii.sqlite\n",
    "engine = create_engine(\"sqlite:///Resources/hawaii.sqlite\")"
   ]
  },
  {
   "cell_type": "code",
   "execution_count": 5,
   "id": "02531dac",
   "metadata": {},
   "outputs": [],
   "source": [
    "# reflect an existing database into a new model\n",
    "Base = automap_base()\n",
    "\n",
    "# reflect the tables\n",
    "Base.prepare(autoload_with=engine)"
   ]
  },
  {
   "cell_type": "code",
   "execution_count": 6,
   "id": "66ab05b4",
   "metadata": {},
   "outputs": [
    {
     "data": {
      "text/plain": [
       "['measurement', 'station']"
      ]
     },
     "execution_count": 6,
     "metadata": {},
     "output_type": "execute_result"
    }
   ],
   "source": [
    "# View all of the classes that automap found\n",
    "Base.classes.keys()"
   ]
  },
  {
   "cell_type": "code",
   "execution_count": 7,
   "id": "bc60bdb5",
   "metadata": {},
   "outputs": [],
   "source": [
    "# Save references to each table\n",
    "Measurement = Base.classes.measurement\n",
    "\n",
    "Station = Base.classes.station"
   ]
  },
  {
   "cell_type": "code",
   "execution_count": 13,
   "id": "17b429c4",
   "metadata": {},
   "outputs": [],
   "source": [
    "# Create our session (link) from Python to the DB\n",
    "session = Session(engine)"
   ]
  },
  {
   "cell_type": "code",
   "execution_count": 12,
   "id": "022f2423",
   "metadata": {},
   "outputs": [
    {
     "data": {
      "text/plain": [
       "('2017-08-23',)"
      ]
     },
     "execution_count": 12,
     "metadata": {},
     "output_type": "execute_result"
    }
   ],
   "source": [
    "# Find the most recent date in the data set.\n",
    "Recent_date = session.query(Measurement)\n",
    "session.query(Measurement.date).order_by(Measurement.date.desc()).first()"
   ]
  },
  {
   "cell_type": "code",
   "execution_count": 45,
   "id": "070ff0ea",
   "metadata": {},
   "outputs": [
    {
     "data": {
      "text/plain": [
       "{'_sa_instance_state': <sqlalchemy.orm.state.InstanceState at 0x1c954a2ee50>,\n",
       " 'prcp': 0.08,\n",
       " 'station': 'USC00519397',\n",
       " 'id': 1,\n",
       " 'date': '2010-01-01',\n",
       " 'tobs': 65.0}"
      ]
     },
     "execution_count": 45,
     "metadata": {},
     "output_type": "execute_result"
    }
   ],
   "source": [
    "DB = session.query(Measurement).first()\n",
    "DB.__dict__"
   ]
  },
  {
   "cell_type": "code",
   "execution_count": 15,
   "id": "81b7c81c",
   "metadata": {},
   "outputs": [
    {
     "data": {
      "text/plain": [
       "<sqlalchemy.orm.query.Query at 0x1c950ed6750>"
      ]
     },
     "execution_count": 15,
     "metadata": {},
     "output_type": "execute_result"
    }
   ],
   "source": [
    "Timerange = session.query(Measurement.date, Measurement.prcp).filter(Measurement.date <= dt.datetime(2017, 8, 23)).filter(Measurement.date >= dt.datetime(2016, 8, 23))\n",
    "Timerange"
   ]
  },
  {
   "cell_type": "code",
   "execution_count": 16,
   "id": "6d01c0d1",
   "metadata": {},
   "outputs": [],
   "source": [
    "TimerangeDB = pd.DataFrame(Timerange)\n",
    "TimerangeDB.columns = ['Date', 'Precipitation']\n",
    "TimerangeDF = TimerangeDB.sort_values(by='Date')"
   ]
  },
  {
   "cell_type": "code",
   "execution_count": 17,
   "id": "93868a8e",
   "metadata": {},
   "outputs": [
    {
     "data": {
      "image/png": "[encoded data removed]",
      "text/plain": [
       "<Figure size 640x480 with 1 Axes>"
      ]
     },
     "metadata": {},
     "output_type": "display_data"
    }
   ],
   "source": [
    "# Design a query to retrieve the last 12 months of precipitation data and plot the results. \n",
    "# Starting from the most recent data point in the database. \n",
    "\n",
    "##PrevMonths = session.query(Measurement.date).order_by(Measurement.date.desc()).first()\n",
    "##print(PrevMonths)\n",
    "\n",
    "# Calculate the date one year from the last date in data set.\n",
    "\n",
    "# Perform a query to retrieve the data and precipitation scores\n",
    "\n",
    "#DandP = session.query(Measurement.date, Measurement.prcp)\n",
    "#for row in DandP:\n",
    "#    print(row)\n",
    "    \n",
    "# Save the query results as a Pandas DataFrame. Explicitly set the column names\n",
    "\n",
    "#TimerangeDB = pd.DataFrame(Timerange)\n",
    "#TimerangeDB\n",
    "#TimerangeDB.columns = ['Date', 'Precipitation']\n",
    "\n",
    "# Sort the dataframe by date\n",
    "\n",
    "\n",
    "# Use Pandas Plotting with Matplotlib to plot the data\n",
    "\n",
    "TimerangeDF = pd.DataFrame(Timerange)\n",
    "TimerangeDF.columns = ['Date', 'Precipitation']\n",
    "TimerangeDF.plot.bar(\"Date\", \"Precipitation\", alpha=0.5, align=\"center\")\n",
    "plt.xlabel(\"Dates\")\n",
    "plt.ylabel(\"Precipiatation levels\")\n",
    "plt.tight_layout()\n",
    "plt.show()    "
   ]
  },
  {
   "cell_type": "code",
   "execution_count": 18,
   "id": "7e84ec57",
   "metadata": {},
   "outputs": [
    {
     "data": {
      "text/plain": [
       "count    2015.000000\n",
       "mean        0.176462\n",
       "std         0.460288\n",
       "min         0.000000\n",
       "25%         0.000000\n",
       "50%         0.020000\n",
       "75%         0.130000\n",
       "max         6.700000\n",
       "Name: Precipitation, dtype: float64"
      ]
     },
     "execution_count": 18,
     "metadata": {},
     "output_type": "execute_result"
    }
   ],
   "source": [
    "# Use Pandas to calculate the summary statistics for the precipitation data\n",
    "\n",
    "TimerangeDF[\"Precipitation\"].describe()"
   ]
  },
  {
   "cell_type": "code",
   "execution_count": null,
   "id": "3d46a98d",
   "metadata": {},
   "outputs": [],
   "source": [
    "Exploratory Station Analysis"
   ]
  },
  {
   "cell_type": "code",
   "execution_count": 50,
   "id": "3b38ea32",
   "metadata": {},
   "outputs": [
    {
     "data": {
      "text/plain": [
       "{'_sa_instance_state': <sqlalchemy.orm.state.InstanceState at 0x1c9523b5010>,\n",
       " 'name': 'WAIKIKI 717.2, HI US',\n",
       " 'longitude': -157.8168,\n",
       " 'station': 'USC00519397',\n",
       " 'latitude': 21.2716,\n",
       " 'id': 1,\n",
       " 'elevation': 3.0}"
      ]
     },
     "execution_count": 50,
     "metadata": {},
     "output_type": "execute_result"
    }
   ],
   "source": [
    "DB = session.query(Station).first()\n",
    "DB.__dict__"
   ]
  },
  {
   "cell_type": "code",
   "execution_count": 53,
   "id": "09a15bf2",
   "metadata": {},
   "outputs": [
    {
     "data": {
      "text/plain": [
       "9"
      ]
     },
     "execution_count": 53,
     "metadata": {},
     "output_type": "execute_result"
    }
   ],
   "source": [
    "# Design a query to calculate the total number of stations in the dataset\n",
    "\n",
    "Station_amount = session.query(Station.station).count()\n",
    "Station_amount"
   ]
  },
  {
   "cell_type": "code",
   "execution_count": 58,
   "id": "ac654d73",
   "metadata": {},
   "outputs": [
    {
     "ename": "AttributeError",
     "evalue": "'Query' object has no attribute 'func'",
     "output_type": "error",
     "traceback": [
      "\u001b[1;31m---------------------------------------------------------------------------\u001b[0m",
      "\u001b[1;31mAttributeError\u001b[0m                            Traceback (most recent call last)",
      "Cell \u001b[1;32mIn[58], line 4\u001b[0m\n\u001b[0;32m      1\u001b[0m \u001b[38;5;66;03m# Design a query to find the most active stations (i.e. which stations have the most rows?)\u001b[39;00m\n\u001b[0;32m      2\u001b[0m \u001b[38;5;66;03m# List the stations and their counts in descending order.\u001b[39;00m\n\u001b[1;32m----> 4\u001b[0m Most_pop \u001b[38;5;241m=\u001b[39m session\u001b[38;5;241m.\u001b[39mquery(Station\u001b[38;5;241m.\u001b[39mstation)\u001b[38;5;241m.\u001b[39mfunc\u001b[38;5;241m.\u001b[39mcount()\n\u001b[0;32m      5\u001b[0m Most_pop\n",
      "\u001b[1;31mAttributeError\u001b[0m: 'Query' object has no attribute 'func'"
     ]
    }
   ],
   "source": [
    "# Design a query to find the most active stations (i.e. which stations have the most rows?)\n",
    "# List the stations and their counts in descending order.\n",
    "\n",
    "Most_pop = session.query(Station.station).func.count()\n",
    "Most_pop"
   ]
  }
 ],
 "metadata": {
  "kernelspec": {
   "display_name": "Python 3 (ipykernel)",
   "language": "python",
   "name": "python3"
  },
  "language_info": {
   "codemirror_mode": {
    "name": "ipython",
    "version": 3
   },
   "file_extension": ".py",
   "mimetype": "text/x-python",
   "name": "python",
   "nbconvert_exporter": "python",
   "pygments_lexer": "ipython3",
   "version": "3.11.5"
  }
 },
 "nbformat": 4,
 "nbformat_minor": 5
}
